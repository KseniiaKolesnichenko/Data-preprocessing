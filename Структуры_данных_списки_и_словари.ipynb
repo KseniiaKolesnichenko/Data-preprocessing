{
  "nbformat": 4,
  "nbformat_minor": 0,
  "metadata": {
    "colab": {
      "name": "Структуры данных списки и словари.ipynb",
      "provenance": [],
      "collapsed_sections": [
        "cCxQbcdB5B2r",
        "VobEJHx_5cnZ",
        "KJ8ryfXZQAnF",
        "pMa7bemd9JxZ",
        "0KQmC3aD8WnA",
        "dIVtL8uhALXi",
        "ycQx9qa0m_Dt",
        "e7_K6Qr9m_Dw",
        "9ajno0rag7Rl",
        "NLQDjX6t9J2L",
        "y9QyIRiXFhXr",
        "0rjsQq8G9J2v",
        "vVCdYjHntQJD",
        "5OlCrQFlKQU8",
        "A4xWbvXHKzyl",
        "hLu-sbC2iiZn",
        "AFRIVnWlm_EG",
        "a6lyRtrA9J4L",
        "khxMKXlX9J4k"
      ]
    },
    "kernelspec": {
      "display_name": "Python 3",
      "language": "python",
      "name": "python3"
    },
    "language_info": {
      "codemirror_mode": {
        "name": "ipython",
        "version": 3
      },
      "file_extension": ".py",
      "mimetype": "text/x-python",
      "name": "python",
      "nbconvert_exporter": "python",
      "pygments_lexer": "ipython3",
      "version": "3.8.3"
    }
  },
  "cells": [
    {
      "cell_type": "markdown",
      "metadata": {
        "id": "-dRFXe9i4HYL"
      },
      "source": [
        "# Погружение в структуры данных"
      ]
    },
    {
      "cell_type": "markdown",
      "metadata": {
        "id": "yf2ztrfuC54H"
      },
      "source": [
        "Спикер: Андрей Рысистов\n",
        "\n",
        "Контакты(телеграм): @Rysistov"
      ]
    },
    {
      "cell_type": "markdown",
      "metadata": {
        "id": "cCxQbcdB5B2r"
      },
      "source": [
        "## 1. План занятия"
      ]
    },
    {
      "cell_type": "markdown",
      "metadata": {
        "id": "-qZUoumK4EBL"
      },
      "source": [
        "План занятия\n",
        "1. Поговорим о том, что вообще такое структуры данных и зачем они нам нужны\n",
        "2. Разберем структуру данных - список\n",
        "3. Рассмотрим практические кейсы применения списков\n",
        "4. Посмотрим на арифметические операторы в python\n",
        "5. Разберемся с приведением типов\n",
        "6. Поговорим о переменных\n",
        "7. Добавим условия в свои программы"
      ]
    },
    {
      "cell_type": "markdown",
      "metadata": {
        "id": "VobEJHx_5cnZ"
      },
      "source": [
        "## 2. Структуры данных"
      ]
    },
    {
      "cell_type": "markdown",
      "metadata": {
        "id": "FqWF-l4q5ijJ"
      },
      "source": [
        "\n",
        "Структуры данных - это общий термин для различных методов хранения информации. \n",
        "\n",
        "Как только мы начинаем выходить за рамки написания простейших программ у нас возниает потребность в хранении коллекций или наборов данных. Для этого в языке Python предусмотрены 2 очень мощных по своим возможностям типа данных: списки и словари."
      ]
    },
    {
      "cell_type": "markdown",
      "metadata": {
        "id": "xyeCEHEC5wla"
      },
      "source": [
        "## 3. Список"
      ]
    },
    {
      "cell_type": "markdown",
      "metadata": {
        "id": "KJ8ryfXZQAnF"
      },
      "source": [
        "### 3.0 Определение списка"
      ]
    },
    {
      "cell_type": "markdown",
      "metadata": {
        "id": "xj0Dxvpk9JxW"
      },
      "source": [
        "\n",
        "\n",
        "\n",
        "\n",
        "\n",
        "\n",
        "\n",
        "\n",
        "\n",
        "\n",
        "**Список** в Python — это упорядоченная изменяемая коллекция объектов произвольных типов.\n",
        "\n",
        "\n",
        "\n",
        "\n",
        "В этом определении важна каждое слово. Мы будем к нему возвращаться по мере иллюстрации возможностей и свойств списков.\n",
        "\n",
        "\n",
        "\n",
        "* Когда мы называем список коллекцией, мы имеем в виду, что в одном списке может храниться множество объектов (например, чисел или строковых величин) \n",
        "\n",
        "\n",
        "* Говоря о том, что списки представляют собой упорядоченные коллекции, мы обращаем внимание на то, что каждый элемент в списке имеет свой порядковый номер.\n",
        "\n",
        "\n",
        "* Упоминание об изменяемости списков означает, что в процессе исполнения кода можно изменять состав элементов списка и последовательность их расположения.\n",
        "\n",
        "\n",
        "* Выражение «произвольных типов» означает, что в списке могут храниться данные, относящиеся к любым типам из тех, с которыми работает Python. *То есть это могут быть также другие списки и словари*\n",
        "\n",
        "\n",
        "\n"
      ]
    },
    {
      "cell_type": "markdown",
      "metadata": {
        "id": "pMa7bemd9JxZ"
      },
      "source": [
        "### 3.1 Создание списков"
      ]
    },
    {
      "cell_type": "code",
      "metadata": {
        "colab": {
          "base_uri": "https://localhost:8080/"
        },
        "id": "SrhOwmXrm_Df",
        "outputId": "5c6566c8-1039-432b-eb26-a44eab1acce8"
      },
      "source": [
        "my_list = list() #первый способ создания пустого списка\n",
        "my_list"
      ],
      "execution_count": 1,
      "outputs": [
        {
          "output_type": "execute_result",
          "data": {
            "text/plain": [
              "[]"
            ]
          },
          "metadata": {
            "tags": []
          },
          "execution_count": 1
        }
      ]
    },
    {
      "cell_type": "code",
      "metadata": {
        "colab": {
          "base_uri": "https://localhost:8080/"
        },
        "id": "ZCWXOwT5m_Dh",
        "outputId": "52281896-d9ca-42fb-9fa2-371b34195991"
      },
      "source": [
        "my_list1 = [] #второй способ создания пустого списка\n",
        "my_list1"
      ],
      "execution_count": 2,
      "outputs": [
        {
          "output_type": "execute_result",
          "data": {
            "text/plain": [
              "[]"
            ]
          },
          "metadata": {
            "tags": []
          },
          "execution_count": 2
        }
      ]
    },
    {
      "cell_type": "code",
      "metadata": {
        "id": "_qajMTeL9Jxd"
      },
      "source": [
        "spisok = ['лебедь', 'рак', 'щука'] # в списке хранится 3 объекта "
      ],
      "execution_count": 4,
      "outputs": []
    },
    {
      "cell_type": "markdown",
      "metadata": {
        "id": "0KQmC3aD8WnA"
      },
      "source": [
        "### 3.2 Список - последовательность"
      ]
    },
    {
      "cell_type": "markdown",
      "metadata": {
        "id": "NVxSG55f9JyH"
      },
      "source": [
        "Списки, кортежи и строки являются примерами последовательностей. Но что такое последовательности и что в них такого особенного?\n",
        "\n",
        "Основные возможности – это проверка принадлежности (т.е. выражения **“in”** и **“not in”**) и оператор индексирования, позволяющий получить напрямую некоторый элемент последовательности. Также последовательности предоставляют операцию получения вырезки, которая позволяет получить вырезку последовательности, т.е. её фрагмент."
      ]
    },
    {
      "cell_type": "markdown",
      "metadata": {
        "id": "3pJFFRtim_Dl"
      },
      "source": [
        "**Индексация в Python начинается с 0**"
      ]
    },
    {
      "cell_type": "code",
      "metadata": {
        "colab": {
          "base_uri": "https://localhost:8080/",
          "height": 36
        },
        "id": "65B5KaCM-x15",
        "outputId": "ffe03be0-20f5-4ad0-f448-0709b250b146"
      },
      "source": [
        "spisok[2] # так мы обратились к третьему элементу списка"
      ],
      "execution_count": 5,
      "outputs": [
        {
          "output_type": "execute_result",
          "data": {
            "application/vnd.google.colaboratory.intrinsic+json": {
              "type": "string"
            },
            "text/plain": [
              "'щука'"
            ]
          },
          "metadata": {
            "tags": []
          },
          "execution_count": 5
        }
      ]
    },
    {
      "cell_type": "code",
      "metadata": {
        "colab": {
          "base_uri": "https://localhost:8080/"
        },
        "id": "3-Y1VghU_L6P",
        "scrolled": true,
        "outputId": "8bc1b513-cc16-4c70-b2dc-714999aa9344"
      },
      "source": [
        "spisok[1] = 'форель' # 3аменили второй элемент списка. \n",
        "spisok # В отличие от строк нам не нужно перезаписывать весь объект, мы можем поменять часть списка"
      ],
      "execution_count": 6,
      "outputs": [
        {
          "output_type": "execute_result",
          "data": {
            "text/plain": [
              "['лебедь', 'форель', 'щука']"
            ]
          },
          "metadata": {
            "tags": []
          },
          "execution_count": 6
        }
      ]
    },
    {
      "cell_type": "code",
      "metadata": {
        "scrolled": true,
        "colab": {
          "base_uri": "https://localhost:8080/"
        },
        "id": "JOEQg9cim_Dn",
        "outputId": "4e9e0454-f7c6-40ec-c3ab-83e7e1a7eff0"
      },
      "source": [
        "len(spisok) #получение длины списка"
      ],
      "execution_count": 7,
      "outputs": [
        {
          "output_type": "execute_result",
          "data": {
            "text/plain": [
              "3"
            ]
          },
          "metadata": {
            "tags": []
          },
          "execution_count": 7
        }
      ]
    },
    {
      "cell_type": "code",
      "metadata": {
        "colab": {
          "base_uri": "https://localhost:8080/"
        },
        "id": "2S2_vH1Y_QrW",
        "outputId": "df237281-71d6-4d07-dbae-b4bd5f2a7297"
      },
      "source": [
        "if 'щука' in spisok:\n",
        "  print('Варим уху')\n",
        "else:\n",
        "  print('Сегодня без ухи')"
      ],
      "execution_count": 8,
      "outputs": [
        {
          "output_type": "stream",
          "text": [
            "Варим уху\n"
          ],
          "name": "stdout"
        }
      ]
    },
    {
      "cell_type": "markdown",
      "metadata": {
        "id": "Xpvevs95BqcC"
      },
      "source": [
        "**Задача**\n",
        "\n",
        "Выведите на экран буву **о**\n",
        "\n",
        "\n",
        "\n",
        "\n"
      ]
    },
    {
      "cell_type": "code",
      "metadata": {
        "id": "OzCx-ZDNDKsA"
      },
      "source": [
        "vowels = ['а', 'е', 'ё', 'и', 'о', 'у', 'ы', 'э', 'ю', 'я']"
      ],
      "execution_count": 10,
      "outputs": []
    },
    {
      "cell_type": "markdown",
      "metadata": {
        "id": "dIVtL8uhALXi"
      },
      "source": [
        "### 3.3 Срезы"
      ]
    },
    {
      "cell_type": "markdown",
      "metadata": {
        "id": "tqX5mRZ__j7t"
      },
      "source": [
        "list[START:STOP:STEP] - берёт срез от номера START, до STOP **не включая его**, с шагом STEP. По умолчанию START = 0, STOP = длине объекта, STEP = 1. Соответственно, какие-нибудь (а возможно, и все) параметры могут быть опущены."
      ]
    },
    {
      "cell_type": "markdown",
      "metadata": {
        "id": "OX04Y_oP5xiu"
      },
      "source": [
        "\n",
        "\n",
        "\n",
        "\n",
        "Срезы позволяют выбрать часть списка, а не один отдельный элемент. \n",
        "\n"
      ]
    },
    {
      "cell_type": "code",
      "metadata": {
        "colab": {
          "base_uri": "https://localhost:8080/"
        },
        "id": "l-hgeS7QAOwf",
        "outputId": "190ab63c-455b-4ca4-84a3-6f55185eca35"
      },
      "source": [
        "vowels = ['а', 'е', 'ё', 'и', 'о', 'у', 'ы', 'э', 'ю', 'я']\n",
        "print(vowels[0:3])\n",
        "print(vowels[:4])\n",
        "print(vowels[4::2])"
      ],
      "execution_count": 11,
      "outputs": [
        {
          "output_type": "stream",
          "text": [
            "['а', 'е', 'ё']\n",
            "['а', 'е', 'ё', 'и']\n",
            "['о', 'ы', 'ю']\n"
          ],
          "name": "stdout"
        }
      ]
    },
    {
      "cell_type": "markdown",
      "metadata": {
        "id": "AtYuPWwSc5kW"
      },
      "source": [
        "**Задача**: \n",
        "Выберите с помощью индексов элементы **о** & **у**"
      ]
    },
    {
      "cell_type": "markdown",
      "metadata": {
        "id": "DRqstxGC6cCo"
      },
      "source": [
        "Отрицательные индексы"
      ]
    },
    {
      "cell_type": "code",
      "metadata": {
        "colab": {
          "base_uri": "https://localhost:8080/",
          "height": 36
        },
        "id": "VFShM5Jc6aUS",
        "outputId": "a87821ea-ee85-4de6-d1ed-073b0232caac"
      },
      "source": [
        "vowels[-1]"
      ],
      "execution_count": 12,
      "outputs": [
        {
          "output_type": "execute_result",
          "data": {
            "application/vnd.google.colaboratory.intrinsic+json": {
              "type": "string"
            },
            "text/plain": [
              "'я'"
            ]
          },
          "metadata": {
            "tags": []
          },
          "execution_count": 12
        }
      ]
    },
    {
      "cell_type": "code",
      "metadata": {
        "colab": {
          "base_uri": "https://localhost:8080/"
        },
        "id": "LJDGzNzR6zUr",
        "scrolled": true,
        "outputId": "b002b296-afd7-48ce-949e-48ff7d1e06e2"
      },
      "source": [
        "vowels[-1::]"
      ],
      "execution_count": 17,
      "outputs": [
        {
          "output_type": "execute_result",
          "data": {
            "text/plain": [
              "['я']"
            ]
          },
          "metadata": {
            "tags": []
          },
          "execution_count": 17
        }
      ]
    },
    {
      "cell_type": "markdown",
      "metadata": {
        "id": "pBXcKv6pm_Dt"
      },
      "source": [
        "**Вопрос**: пойти в обратную сторону с шагом 2?"
      ]
    },
    {
      "cell_type": "markdown",
      "metadata": {
        "id": "ycQx9qa0m_Dt"
      },
      "source": [
        "### 3.4 Операции со списками"
      ]
    },
    {
      "cell_type": "markdown",
      "metadata": {
        "id": "6CWvdLH-C54G"
      },
      "source": [
        "В список можно добавлять элементы\n",
        "\n",
        "Давайте вернем щуку в наш список, но не заменим ей форель, а как бы добавим скраю. \n",
        "\n",
        "Для этой операции у нас есть метод `append()`. Он добавляет элемент справа (что делает эту операцию достаточно быстрой, в отличие от добавления элемента, например, с левого края) "
      ]
    },
    {
      "cell_type": "code",
      "metadata": {
        "colab": {
          "base_uri": "https://localhost:8080/"
        },
        "id": "V5Y2aVgeDQ5q",
        "outputId": "b7043880-2de1-4b3f-8c04-6b6c6c381d89"
      },
      "source": [
        "spisok = ['лебедь', 'рак', 'форель']\n",
        "spisok.append('щука') \n",
        "spisok"
      ],
      "execution_count": 18,
      "outputs": [
        {
          "output_type": "execute_result",
          "data": {
            "text/plain": [
              "['лебедь', 'рак', 'форель', 'щука']"
            ]
          },
          "metadata": {
            "tags": []
          },
          "execution_count": 18
        }
      ]
    },
    {
      "cell_type": "markdown",
      "metadata": {
        "id": "g6AHeIyCDprC"
      },
      "source": [
        "Попробуйте сами добавить карася или любую другую рыбу в этот список...\n",
        "\n",
        "Итак, мы разобрались с добавлением элементов, теперь давайте узнаем как удалять элементы списка\n",
        "\n",
        "Для этого у нас есть метод `revome()`, который принимает в качестве аргумента элемент, который мы хотим удалить\n",
        "\n"
      ]
    },
    {
      "cell_type": "code",
      "metadata": {
        "colab": {
          "base_uri": "https://localhost:8080/"
        },
        "id": "UlxR4jtGAUYp",
        "outputId": "d60fe20b-649a-4f11-c061-1898df7a798b"
      },
      "source": [
        "spisok.remove('лебедь')\n",
        "spisok"
      ],
      "execution_count": 19,
      "outputs": [
        {
          "output_type": "execute_result",
          "data": {
            "text/plain": [
              "['рак', 'форель', 'щука']"
            ]
          },
          "metadata": {
            "tags": []
          },
          "execution_count": 19
        }
      ]
    },
    {
      "cell_type": "markdown",
      "metadata": {
        "id": "fZkSN2BZAwNx"
      },
      "source": [
        "Отсортируем наш список с помощью метода `sort()`. Параметр reverse обозначает сортировку по убыванию (в порядке, обратному алфавитному)"
      ]
    },
    {
      "cell_type": "code",
      "metadata": {
        "colab": {
          "base_uri": "https://localhost:8080/"
        },
        "id": "Dnm5LOkTAvcm",
        "outputId": "8c8edf78-2861-4fed-9b52-81e2b3607e74"
      },
      "source": [
        "spisok.sort(reverse=True)\n",
        "spisok"
      ],
      "execution_count": 20,
      "outputs": [
        {
          "output_type": "execute_result",
          "data": {
            "text/plain": [
              "['щука', 'форель', 'рак']"
            ]
          },
          "metadata": {
            "tags": []
          },
          "execution_count": 20
        }
      ]
    },
    {
      "cell_type": "markdown",
      "metadata": {
        "id": "USe_Gb0MBGgA"
      },
      "source": [
        "Помимо перечисленных выше методов у списка есть еще огромный арсенал возможностей. Подробнее со всеми ними вы можете познакомиться по ссылочке:https://pythonworld.ru/tipy-dannyx-v-python/spiski-list-funkcii-i-metody-spiskov.html"
      ]
    },
    {
      "cell_type": "markdown",
      "metadata": {
        "id": "I-bhnWGgH8vv"
      },
      "source": [
        "Рассмотрим еще несколько фишечек со списками:"
      ]
    },
    {
      "cell_type": "code",
      "metadata": {
        "colab": {
          "base_uri": "https://localhost:8080/"
        },
        "id": "7tnpBV0KICsH",
        "outputId": "e9e75f21-7ee2-41d9-bc44-b36810c6705f"
      },
      "source": [
        "[5, '1', '124', 'hello'] + [14, 141, 5] #конкатенация списков"
      ],
      "execution_count": 21,
      "outputs": [
        {
          "output_type": "execute_result",
          "data": {
            "text/plain": [
              "[5, '1', '124', 'hello', 14, 141, 5]"
            ]
          },
          "metadata": {
            "tags": []
          },
          "execution_count": 21
        }
      ]
    },
    {
      "cell_type": "code",
      "metadata": {
        "colab": {
          "base_uri": "https://localhost:8080/"
        },
        "id": "Bqf50LykILyi",
        "outputId": "48a5298a-893e-4ef6-9cb0-b70f780b94ee"
      },
      "source": [
        "[14, 141] * 5 #умножение списка"
      ],
      "execution_count": 22,
      "outputs": [
        {
          "output_type": "execute_result",
          "data": {
            "text/plain": [
              "[14, 141, 14, 141, 14, 141, 14, 141, 14, 141]"
            ]
          },
          "metadata": {
            "tags": []
          },
          "execution_count": 22
        }
      ]
    },
    {
      "cell_type": "markdown",
      "metadata": {
        "id": "e7_K6Qr9m_Dw"
      },
      "source": [
        "### 3.5 Списки и циклы"
      ]
    },
    {
      "cell_type": "markdown",
      "metadata": {
        "id": "W4QOq0Xz9Jyw"
      },
      "source": [
        "Списки хорошо сочетаются с циклами. Такое сочетание возможно благодаря оператору in, используемому в цикле for"
      ]
    },
    {
      "cell_type": "markdown",
      "metadata": {
        "id": "LYZgoCYqinRn"
      },
      "source": [
        "У нас есть фургон, в котором мы перевозим грузы. Установлено ограничение на максимальный вес груза в 100кг. Необходимо произвести фильтрацию данных грузов"
      ]
    },
    {
      "cell_type": "code",
      "metadata": {
        "colab": {
          "base_uri": "https://localhost:8080/"
        },
        "id": "mq0hMqEt9Jyx",
        "scrolled": false,
        "outputId": "140c4acf-b7bc-493e-b870-0c2b596039ff"
      },
      "source": [
        "\n",
        "items = [1, 5, 76, 12, 123, 333, 5, 6, 7]\n",
        "ok_items = []\n",
        "\n",
        "for gruz in items:\n",
        "    print('Груз весит ' + str(gruz) +  ' килограмм')\n",
        "    if gruz<100:\n",
        "        ok_items.append(gruz) \n",
        "        print('Груз прошел проверку')\n",
        "    else:\n",
        "        print('Груз слишком большой')\n",
        "ok_items\n"
      ],
      "execution_count": 23,
      "outputs": [
        {
          "output_type": "stream",
          "text": [
            "Груз весит 1 килограмм\n",
            "Груз прошел проверку\n",
            "Груз весит 5 килограмм\n",
            "Груз прошел проверку\n",
            "Груз весит 76 килограмм\n",
            "Груз прошел проверку\n",
            "Груз весит 12 килограмм\n",
            "Груз прошел проверку\n",
            "Груз весит 123 килограмм\n",
            "Груз слишком большой\n",
            "Груз весит 333 килограмм\n",
            "Груз слишком большой\n",
            "Груз весит 5 килограмм\n",
            "Груз прошел проверку\n",
            "Груз весит 6 килограмм\n",
            "Груз прошел проверку\n",
            "Груз весит 7 килограмм\n",
            "Груз прошел проверку\n"
          ],
          "name": "stdout"
        },
        {
          "output_type": "execute_result",
          "data": {
            "text/plain": [
              "[1, 5, 76, 12, 5, 6, 7]"
            ]
          },
          "metadata": {
            "tags": []
          },
          "execution_count": 23
        }
      ]
    },
    {
      "cell_type": "markdown",
      "metadata": {
        "id": "9ajno0rag7Rl"
      },
      "source": [
        "### 3.6. Вложенные списки\n",
        "\n"
      ]
    },
    {
      "cell_type": "markdown",
      "metadata": {
        "id": "JBAn5C3XDALj"
      },
      "source": [
        "Элементом списка может быть любой объект в питоне, в том числе и другой список. Порой встречаются такие структуры как списки в списках, или \"вложенный список\". "
      ]
    },
    {
      "cell_type": "code",
      "metadata": {
        "colab": {
          "base_uri": "https://localhost:8080/"
        },
        "id": "r4HgZuJ6hNpY",
        "scrolled": true,
        "outputId": "d34a50b8-9983-4a69-e4dd-9763d9cfaa5f"
      },
      "source": [
        "array_of_arrays = [\n",
        "                   [1, 2, 3],\n",
        "                   [4, 5 ,6],\n",
        "                   [71, 2, 5]\n",
        "                   ]\n",
        "# у нас есть список array_of_arrays, который состоит из трех элементов \n",
        "# мы можем получить каждый из этих трех элементов с помощью индекса\n",
        "array_of_arrays[0][-1]"
      ],
      "execution_count": 40,
      "outputs": [
        {
          "output_type": "execute_result",
          "data": {
            "text/plain": [
              "3"
            ]
          },
          "metadata": {
            "tags": []
          },
          "execution_count": 40
        }
      ]
    },
    {
      "cell_type": "markdown",
      "metadata": {
        "id": "NCig-bQ_Bxfa"
      },
      "source": [
        "Работая с такими списками нам часто будет нужен вложенный цикл:"
      ]
    },
    {
      "cell_type": "code",
      "metadata": {
        "colab": {
          "base_uri": "https://localhost:8080/"
        },
        "id": "dJNar6RFBcOV",
        "outputId": "da816ea3-9955-4834-cd19-4ca12ce74105"
      },
      "source": [
        "for row in array_of_arrays:\n",
        "  for i in row:\n",
        "    print(i)\n",
        "  print('\\n')"
      ],
      "execution_count": 41,
      "outputs": [
        {
          "output_type": "stream",
          "text": [
            "1\n",
            "2\n",
            "3\n",
            "\n",
            "\n",
            "4\n",
            "5\n",
            "6\n",
            "\n",
            "\n",
            "71\n",
            "2\n",
            "5\n",
            "\n",
            "\n"
          ],
          "name": "stdout"
        }
      ]
    },
    {
      "cell_type": "markdown",
      "metadata": {
        "id": "wDzymhD6Lp_A"
      },
      "source": [
        "Задача: создайте матрицу 3х3 у которой на диагонали будут стоять значение корня из 2"
      ]
    },
    {
      "cell_type": "markdown",
      "metadata": {
        "id": "NLQDjX6t9J2L"
      },
      "source": [
        "### 3.6 Генераторы списков\n"
      ]
    },
    {
      "cell_type": "markdown",
      "metadata": {
        "id": "jHn4z_ItC6-2"
      },
      "source": [
        "Генераторы списков - это гибрид цикла for и списка.\n",
        "\n",
        "Генератор списка позволяет создать список и заполнить его данными, используя всего одну строку кода. Выглядит это приблизительно так:"
      ]
    },
    {
      "cell_type": "markdown",
      "metadata": {
        "id": "JNLrLRx3DWqG"
      },
      "source": [
        "Создадим список квадратов чисел от 0 до 9"
      ]
    },
    {
      "cell_type": "code",
      "metadata": {
        "id": "dd-TYFVr9J2R",
        "outputId": "97b83660-eacc-4311-d1d3-ec1c53ee9741",
        "colab": {
          "base_uri": "https://localhost:8080/"
        }
      },
      "source": [
        "squares= []\n",
        "for x in range(10):\n",
        "    squares.append(x ** 2)\n",
        "print(squares)\n",
        "# равно по смыслу\n",
        "squares = [x ** 2 for x in range(10)] \n",
        "print(squares)\n",
        "# но при этом гораздо быстрее и поэтому предпочтительно использовать именно генераторы списков для такого сценария"
      ],
      "execution_count": 46,
      "outputs": [
        {
          "output_type": "stream",
          "text": [
            "[0, 1, 4, 9, 16, 25, 36, 49, 64, 81]\n",
            "[0, 1, 4, 9, 16, 25, 36, 49, 64, 81]\n"
          ],
          "name": "stdout"
        }
      ]
    },
    {
      "cell_type": "markdown",
      "metadata": {
        "id": "xGVGiqf1m_D7"
      },
      "source": [
        "Генераторы могут содержать условие"
      ]
    },
    {
      "cell_type": "code",
      "metadata": {
        "colab": {
          "base_uri": "https://localhost:8080/"
        },
        "id": "JWTC1IfHMlOA",
        "outputId": "4004c806-2da8-4da8-9eae-21adeffcc8c0"
      },
      "source": [
        "my_list = []\n",
        "for x in range(10, 100):\n",
        "  if x%3 == 0 and x%5 == 0:\n",
        "    my_list.append(x)\n",
        "my_list"
      ],
      "execution_count": 47,
      "outputs": [
        {
          "output_type": "execute_result",
          "data": {
            "text/plain": [
              "[15, 30, 45, 60, 75, 90]"
            ]
          },
          "metadata": {
            "tags": []
          },
          "execution_count": 47
        }
      ]
    },
    {
      "cell_type": "code",
      "metadata": {
        "colab": {
          "base_uri": "https://localhost:8080/"
        },
        "id": "FbbgHWZJ9J2Y",
        "outputId": "592125d8-5c73-4c17-a2ed-ca54fb70392f"
      },
      "source": [
        "my_list = [x for x in range(10, 100) if x%3 == 0 and x%5 == 0]\n",
        "my_list\n"
      ],
      "execution_count": 48,
      "outputs": [
        {
          "output_type": "execute_result",
          "data": {
            "text/plain": [
              "[15, 30, 45, 60, 75, 90]"
            ]
          },
          "metadata": {
            "tags": []
          },
          "execution_count": 48
        }
      ]
    },
    {
      "cell_type": "markdown",
      "metadata": {
        "id": "vY0Odx8UIXCB"
      },
      "source": [
        "**Задачка с платформы**: Перепишите привёденный ниже код, используя генератор списков. Полученный в результате работы генератора список должен иметь имя my_list.\n",
        "\n"
      ]
    },
    {
      "cell_type": "code",
      "metadata": {
        "colab": {
          "base_uri": "https://localhost:8080/"
        },
        "id": "-bHPY8zqIddM",
        "outputId": "ed6b96c8-a861-4a9d-d1d9-3db2a799e8a6"
      },
      "source": [
        "my_list = []\n",
        "for x in range(90, 100):\n",
        "    first_digit = x//10\n",
        "    last_digit = x%10\n",
        "    my_list.append(first_digit + last_digit)\n",
        "my_list"
      ],
      "execution_count": 49,
      "outputs": [
        {
          "output_type": "execute_result",
          "data": {
            "text/plain": [
              "[9, 10, 11, 12, 13, 14, 15, 16, 17, 18]"
            ]
          },
          "metadata": {
            "tags": []
          },
          "execution_count": 49
        }
      ]
    },
    {
      "cell_type": "markdown",
      "metadata": {
        "id": "y9QyIRiXFhXr"
      },
      "source": [
        "### 3.7 Практический кейс на списки"
      ]
    },
    {
      "cell_type": "markdown",
      "metadata": {
        "id": "b2aSIpJcFn0g"
      },
      "source": [
        "Рассмотрим следующую задачу: пусть мы работаем с группой различных датчиков, которые измеряют следующие параметры: температуру (в Кельвинах), давление (в Паскалях) и влажность в долях единицы. Данные представлены за 7 дней в виде списка. Необходимо преобразовать данные в следующий формат: Кельвины перевести в градусы Цельсия, Паскали в атмосферы, влажность в проценты. При этом необходимо отбросить те дни, в которых либо влажность воздуха была больше 60%, либо температура меньше 15 градусов по Цельсию. Результат так же должен представлять из себя список"
      ]
    },
    {
      "cell_type": "code",
      "metadata": {
        "colab": {
          "base_uri": "https://localhost:8080/"
        },
        "id": "llWeMTIwG-ls",
        "outputId": "905317d8-ec1c-4453-8cf3-dbb95d7fee91"
      },
      "source": [
        "data = [\n",
        "        [293.0, 101020, 0.35],\n",
        "        [285.4, 101220, 0.43],\n",
        "        [282.1, 102020, 0.36],\n",
        "        [299.2, 100012, 0.32],\n",
        "        [301.2, 101020, 0.45],\n",
        "        [300.5, 101920, 0.65],\n",
        "        [293.8, 101050, 0.45],\n",
        "]\n",
        "new_data = []\n",
        "for row in data:\n",
        "  t = row[0] - 273\n",
        "  p = row[1] * 0.0000099\n",
        "  r = row[2] * 100\n",
        "  if t > 15 and r < 60:\n",
        "    new_data.append([t, p, r])\n",
        "new_data"
      ],
      "execution_count": 30,
      "outputs": [
        {
          "output_type": "execute_result",
          "data": {
            "text/plain": [
              "[[20.0, 1.000098, 35.0],\n",
              " [26.19999999999999, 0.9901188, 32.0],\n",
              " [28.19999999999999, 1.000098, 45.0],\n",
              " [20.80000000000001, 1.000395, 45.0]]"
            ]
          },
          "metadata": {
            "tags": []
          },
          "execution_count": 30
        }
      ]
    },
    {
      "cell_type": "markdown",
      "metadata": {
        "id": "0rjsQq8G9J2v"
      },
      "source": [
        "## 4. Словарь"
      ]
    },
    {
      "cell_type": "markdown",
      "metadata": {
        "id": "vVCdYjHntQJD"
      },
      "source": [
        "### 4.0 Определение словаря"
      ]
    },
    {
      "cell_type": "markdown",
      "metadata": {
        "id": "3heTmd3E9J2w"
      },
      "source": [
        "Список хорош, когда он один. Но зачастую у нас возникает необходимость хранить несколько связанных списков. \n",
        "Например, номера телефонов и имена покупателей. Или название продуктов и их стоимость. В python есть особый тип данных для хранения такой информации в удобной форме - словарь"
      ]
    },
    {
      "cell_type": "markdown",
      "metadata": {
        "id": "7i93VWLn9J2w"
      },
      "source": [
        "Словарь в Python - неупорядоченная ассоциативная изменяемая коллекция произвольных типов \n",
        "Снова разбираем по словам:\n",
        "  1. Неупорядоченная структура означает, что элементы в словаре хранятся в произвольном порядке и не имеют номера\n",
        "  2. В отличие от последовательностей, которые индексируются диапазоном чисел, словари индексируются по ключам, которые могут быть любым **неизменяемым** типом; строки и числа всегда могут быть ключами.\n",
        "  3. Изменяемая - словари можно изменять: добавлять, удалять и заменять элементы и ключи\n",
        "  4. Произвольных типов означает, что в словаре, как и в списке хранятся элементы любой природы: числа, строки, списки, словари и.т.д.\n"
      ]
    },
    {
      "cell_type": "markdown",
      "metadata": {
        "id": "5OlCrQFlKQU8"
      },
      "source": [
        "### 4.1 Создание словаря и получение его элементов"
      ]
    },
    {
      "cell_type": "markdown",
      "metadata": {
        "id": "BhzM7wmcLATF"
      },
      "source": [
        "Создадим словарь продуктов и их цен"
      ]
    },
    {
      "cell_type": "code",
      "metadata": {
        "id": "4QvNxKUG9J2z"
      },
      "source": [
        "fruit_dict = {\n",
        "    'Банан': '16 рублей', \n",
        "'Яблоко': '28 рублей', \n",
        "'Персик': '37 рублей', \n",
        "'Манго': '100 рублей', \n",
        "'Апельсин': '30 рублей'}"
      ],
      "execution_count": 50,
      "outputs": []
    },
    {
      "cell_type": "code",
      "metadata": {
        "colab": {
          "base_uri": "https://localhost:8080/"
        },
        "id": "1R1nL7xFK9_F",
        "outputId": "3e839e91-8b38-489d-f69c-574034b21967"
      },
      "source": [
        "#Обращаемся к элементу с помощью ключа\n",
        "print(fruit_dict['Банан'])\n",
        "print(fruit_dict['Апельсин'])"
      ],
      "execution_count": 51,
      "outputs": [
        {
          "output_type": "stream",
          "text": [
            "16 рублей\n",
            "30 рублей\n"
          ],
          "name": "stdout"
        }
      ]
    },
    {
      "cell_type": "code",
      "metadata": {
        "colab": {
          "base_uri": "https://localhost:8080/",
          "height": 162
        },
        "id": "WadUm5vcLVj9",
        "outputId": "d7460d9c-a6f9-4667-f3cf-5205c9678544"
      },
      "source": [
        "fruit_dict['Вишня']"
      ],
      "execution_count": 52,
      "outputs": [
        {
          "output_type": "error",
          "ename": "KeyError",
          "evalue": "ignored",
          "traceback": [
            "\u001b[0;31m---------------------------------------------------------------------------\u001b[0m",
            "\u001b[0;31mKeyError\u001b[0m                                  Traceback (most recent call last)",
            "\u001b[0;32m<ipython-input-52-fbf2fb41c159>\u001b[0m in \u001b[0;36m<module>\u001b[0;34m()\u001b[0m\n\u001b[0;32m----> 1\u001b[0;31m \u001b[0mfruit_dict\u001b[0m\u001b[0;34m[\u001b[0m\u001b[0;34m'Вишня'\u001b[0m\u001b[0;34m]\u001b[0m\u001b[0;34m\u001b[0m\u001b[0;34m\u001b[0m\u001b[0m\n\u001b[0m",
            "\u001b[0;31mKeyError\u001b[0m: 'Вишня'"
          ]
        }
      ]
    },
    {
      "cell_type": "code",
      "metadata": {
        "id": "FzOkM0EbuvB0",
        "outputId": "2eacf316-621f-479e-880d-c4cb5f9b58c7",
        "colab": {
          "base_uri": "https://localhost:8080/"
        }
      },
      "source": [
        "if 'Банан' not in fruit_dict : \n",
        "    print('Нет в словаре') \n",
        "else: \n",
        "    print(fruit_dict['Банан']) "
      ],
      "execution_count": 53,
      "outputs": [
        {
          "output_type": "stream",
          "text": [
            "16 рублей\n"
          ],
          "name": "stdout"
        }
      ]
    },
    {
      "cell_type": "markdown",
      "metadata": {
        "id": "A4xWbvXHKzyl"
      },
      "source": [
        "### 4.2 Ключи и значения словаря "
      ]
    },
    {
      "cell_type": "markdown",
      "metadata": {
        "id": "ln6_COB-m_D-"
      },
      "source": [
        "Получить ключи и значения словарей можно с помощью методов: keys(), values() и items()"
      ]
    },
    {
      "cell_type": "code",
      "metadata": {
        "id": "N9P3b3uM6JN7"
      },
      "source": [
        "prices = list(fruit_dict.values())\n",
        "prices"
      ],
      "execution_count": null,
      "outputs": []
    },
    {
      "cell_type": "code",
      "metadata": {
        "scrolled": true,
        "id": "m2npiEVEm_D_"
      },
      "source": [
        "fruites = list(fruit_dict.keys())\n",
        "fruites"
      ],
      "execution_count": null,
      "outputs": []
    },
    {
      "cell_type": "code",
      "metadata": {
        "id": "ZCPzLUVxm_D_"
      },
      "source": [
        "list(fruit_dict.items())"
      ],
      "execution_count": null,
      "outputs": []
    },
    {
      "cell_type": "markdown",
      "metadata": {
        "id": "hLu-sbC2iiZn"
      },
      "source": [
        "### 4.3 Циклы и словари"
      ]
    },
    {
      "cell_type": "markdown",
      "metadata": {
        "id": "NCTFqzChm_EB"
      },
      "source": [
        "Как и списки, словари могут прекрасно взаимодействовать с циклами, однако при итерации по словарю необходимо учитывать, что мы итерируемся по ключам словаря"
      ]
    },
    {
      "cell_type": "code",
      "metadata": {
        "id": "U89oKG1GiyV_"
      },
      "source": [
        "#Переборы в словарях\n",
        "employee_base = {'Мария Никитина': 'менеджер', 'Егор Савичев': 'разработчик',\n",
        "                 'Александр Пахомов': 'дизайнер', 'Алина Егорова': 'разработчик',\n",
        "                 'Руслан Башаров': 'верстальщик'}"
      ],
      "execution_count": null,
      "outputs": []
    },
    {
      "cell_type": "code",
      "metadata": {
        "id": "GtvyUEfDm_EB"
      },
      "source": [
        "for employee in employee_base:\n",
        "    print('Имя сотрудника: ', employee)"
      ],
      "execution_count": null,
      "outputs": []
    },
    {
      "cell_type": "code",
      "metadata": {
        "scrolled": false,
        "id": "fFcBmbE_m_EC"
      },
      "source": [
        "for key in employee_base:\n",
        "    print('Должность: ', employee_base[key])"
      ],
      "execution_count": null,
      "outputs": []
    },
    {
      "cell_type": "code",
      "metadata": {
        "scrolled": true,
        "id": "tC8IWp5Rm_ED"
      },
      "source": [
        "for key, value in employee_base.items():\n",
        "    print(key, value)"
      ],
      "execution_count": null,
      "outputs": []
    },
    {
      "cell_type": "markdown",
      "metadata": {
        "id": "uZlyZtu-m_EE"
      },
      "source": [
        "**Задача**: на вход нашей программе подается список сотрудников. Вам необходимо проверить, есть ли эти эти сотрудники в вашей базе и вывести их должности. В случае их отсутствия необходимо вывести \"отсутствует\""
      ]
    },
    {
      "cell_type": "code",
      "metadata": {
        "id": "zSPN2h3u9J3b",
        "scrolled": true
      },
      "source": [
        "employee_base = {'Мария Никитина': 'менеджер', 'Егор Савичев': 'разработчик',\n",
        "                 'Александр Пахомов': 'дизайнер', 'Алина Егорова': 'разработчик',\n",
        "                 'Руслан Башаров': 'верстальщик'}\n",
        "people = ['Мария Никитина', 'Олег Газманов', 'Руслан Башаров']"
      ],
      "execution_count": null,
      "outputs": []
    },
    {
      "cell_type": "markdown",
      "metadata": {
        "id": "AFRIVnWlm_EG"
      },
      "source": [
        "### 4.4 Операции со словарями"
      ]
    },
    {
      "cell_type": "markdown",
      "metadata": {
        "id": "vGtm02BxyeWT"
      },
      "source": [
        "Рассмотрим синтаксис добавления нового ключа и значения в словарь. Заметьте, что такой же синтаксис работает и на замену существующего значения на новое по ключу"
      ]
    },
    {
      "cell_type": "code",
      "metadata": {
        "id": "zozYMjIkm_EG"
      },
      "source": [
        "fruit_dict['Яблоко'] = '24 рубля'#добавление в словарь\n",
        "fruit_dict['Персик'] = '60 рублей'#замена значения по ключу\n",
        "fruit_dict"
      ],
      "execution_count": null,
      "outputs": []
    },
    {
      "cell_type": "code",
      "metadata": {
        "id": "Uh8-FAlPm_EH"
      },
      "source": [
        "fruit_dict.pop('Персик')\n",
        "fruit_dict"
      ],
      "execution_count": null,
      "outputs": []
    },
    {
      "cell_type": "markdown",
      "metadata": {
        "id": "q3noJPlixzWG"
      },
      "source": [
        "**Вопрос**: как вы думаете, имеет ли словарь метод sort()? "
      ]
    },
    {
      "cell_type": "markdown",
      "metadata": {
        "id": "_u11hK86Mbfm"
      },
      "source": [
        "Помимо перечисленных методов словари так же обладают большим количеством других возможностей. Их основной список можно найти по ссылочке: https://pythonworld.ru/tipy-dannyx-v-python/slovari-dict-funkcii-i-metody-slovarej.html"
      ]
    },
    {
      "cell_type": "markdown",
      "metadata": {
        "id": "a6lyRtrA9J4L"
      },
      "source": [
        "### 4.5 Вложенные словари"
      ]
    },
    {
      "cell_type": "markdown",
      "metadata": {
        "id": "B-s_uvIhm_EI"
      },
      "source": [
        "Как вы уже поняли, сложные вещи в этом мире тяжело описать простыми структурами, поэтому ровно так же как существуют вложенные списки, существуют и вложенные словари.\n",
        "\n",
        "Рассмотрим такую структуру на примере конфигурации сервера"
      ]
    },
    {
      "cell_type": "code",
      "metadata": {
        "id": "pVZJFVYQ9J4N"
      },
      "source": [
        "# Часто встречается при работе с конфигурационными файлами, JSON схемами и не только\n",
        "config = {\n",
        "    \"server\": {\n",
        "        \"host\": \"127.0.0.1\",\n",
        "        \"port\": \"22\"\n",
        "    },\n",
        "    \"configuration\": {\n",
        "        \"ssh\": {\n",
        "            \"access\": \"true\",\n",
        "            \"login\": \"some\",\n",
        "            \"password\": \"some\"\n",
        "        }\n",
        "        \"name\": \"2491Oaaf1414\"\n",
        "    }\n",
        "}"
      ],
      "execution_count": null,
      "outputs": []
    },
    {
      "cell_type": "code",
      "metadata": {
        "id": "8CNbTJeu5nBP"
      },
      "source": [
        "config['server']['host']"
      ],
      "execution_count": null,
      "outputs": []
    },
    {
      "cell_type": "code",
      "metadata": {
        "id": "ES7hBC0yUbgc"
      },
      "source": [
        "config['configuration']['ssh']['password']"
      ],
      "execution_count": null,
      "outputs": []
    },
    {
      "cell_type": "markdown",
      "metadata": {
        "id": "TrHhcAyINeV-"
      },
      "source": [
        "Задача: напишите код для получения логина от ssh соединения"
      ]
    },
    {
      "cell_type": "markdown",
      "metadata": {
        "id": "PmLJw37_m_EJ"
      },
      "source": [
        "А теперь совместим две изученные нами структуры"
      ]
    },
    {
      "cell_type": "markdown",
      "metadata": {
        "id": "rc9d4SOfJ8kY"
      },
      "source": [
        "Решим задачу с платформы. Напишем код, который ищет минимальное значение ключа cost в структуре, указанной ниже. Укажите это значение в качестве ответа\n",
        "\n"
      ]
    },
    {
      "cell_type": "code",
      "metadata": {
        "id": "pnh9Klkrm_EK"
      },
      "source": [
        "results = [\n",
        "    {'cost': 98, 'source': 'vk'},\n",
        "    {'cost': 153, 'source': 'yandex'},\n",
        "    {'cost': 110, 'source': 'facebook'},\n",
        "    {'cost': 5, 'source': 'rogaikopyta'}\n",
        "]"
      ],
      "execution_count": null,
      "outputs": []
    },
    {
      "cell_type": "code",
      "metadata": {
        "id": "NZ_L_xSNKqxJ"
      },
      "source": [
        "min_cost = 1000000\n",
        "for item in results:\n",
        "    if item['cost'] < min_cost:\n",
        "        print(min_cost)\n",
        "        min_cost = item['cost']\n",
        "print(min_cost)\n"
      ],
      "execution_count": null,
      "outputs": []
    },
    {
      "cell_type": "markdown",
      "metadata": {
        "id": "khxMKXlX9J4k"
      },
      "source": [
        "### 4.6 Практический кейс на словари \n",
        "\n"
      ]
    },
    {
      "cell_type": "markdown",
      "metadata": {
        "id": "b7IWLi3RNpn0"
      },
      "source": [
        "Пусть у нас есть некоторая информация о пабликах в сети ВКонтакте. Необходимо организовать код для получения ссылок на аватарки данных пабликов. Все ссылки необходимо оформить во вложенный список"
      ]
    },
    {
      "cell_type": "code",
      "metadata": {
        "id": "RJs1qB4S9J4l"
      },
      "source": [
        "response = {'response': [{'id': 42565717,\n",
        "   'name': 'Python',\n",
        "   'screen_name': 'club42565717',\n",
        "   'is_closed': 0,\n",
        "   'type': 'group',\n",
        "   'members_count': 37319,\n",
        "   'activity': 'Открытая группа',\n",
        "   'photo_50': 'https://sun9-127.userapi.com/c845524/v845524906/1a71c2/A2r_4JtmiLQ.jpg?ava=1',\n",
        "   'photo_100': 'https://sun9-58.userapi.com/c845524/v845524906/1a71c1/2fBtsS0k8XY.jpg?ava=1',\n",
        "   'photo_200': 'https://sun9-50.userapi.com/c845524/v845524906/1a71c0/Kfo-eQIn0DU.jpg?ava=1'},\n",
        "                         \n",
        "  {'id': 3183750,\n",
        "   'name': 'Веб программист - PHP, JS, Python, Java, HTML 5',\n",
        "   'screen_name': 'php2all',\n",
        "   'is_closed': 0,\n",
        "   'type': 'page',\n",
        "   'members_count': 117833,\n",
        "   'activity': 'Программирование',\n",
        "   'photo_50': 'https://sun9-54.userapi.com/c626421/v626421613/941/HSj4ylRsk8k.jpg?ava=1',\n",
        "   'photo_100': 'https://sun9-5.userapi.com/c626421/v626421613/940/yKaZLxGShkY.jpg?ava=1',\n",
        "   'photo_200': 'https://sun9-49.userapi.com/c626421/v626421613/93f/2EygT_FJKWg.jpg?ava=1'}]}"
      ],
      "execution_count": null,
      "outputs": []
    },
    {
      "cell_type": "code",
      "metadata": {
        "id": "WQGJhKRr9J4p",
        "scrolled": true
      },
      "source": [
        "response['response']"
      ],
      "execution_count": null,
      "outputs": []
    },
    {
      "cell_type": "markdown",
      "metadata": {
        "id": "dKYHVLLnEbVR"
      },
      "source": [
        "## 5. Спасибо за внимание! Буду рад ответиить на ваши вопросы\n",
        "\n",
        "Форма ОС:\n",
        "https://forms.gle/TAeFKkTMpJCT5zc88  \n",
        "\n"
      ]
    }
  ]
}